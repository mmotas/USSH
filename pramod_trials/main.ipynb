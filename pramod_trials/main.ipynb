{
 "cells": [
  {
   "cell_type": "code",
   "execution_count": 7,
   "metadata": {
    "scrolled": true
   },
   "outputs": [],
   "source": [
    "import pandas\n",
    "import os\n",
    "import json\n",
    "\n",
    "class OptaData:\n",
    "    def __init__(self, base_path):\n",
    "        \"\"\"\n",
    "        Initialize training/testing data\n",
    "        \"\"\"\n",
    "        self.base_path = base_path\n",
    "        self.data=self.load_data()\n",
    "        \n",
    "#         self.X, self.P, self.Y, self.goalkeeper, self.defender, self.midfielder, self.forward, self.csvfile  = self.load_data()\n",
    "\n",
    "    def get_csv_files(self):\n",
    "        for root, folders, files in os.walk(self.base_path):\n",
    "            for file in files:\n",
    "                if '.csv' in file:\n",
    "                    yield(root + '/' + file)\n",
    "\n",
    "\n",
    "    def load_data(self):\n",
    "        \"\"\"\n",
    "        Load data from file\n",
    "        Args:\n",
    "        Returns:\n",
    "        \"\"\"\n",
    "\n",
    "        X = []; Y = []; P = []; positions={}; goalkeeper = []; defender = []; midfielder = []; forward = []\n",
    "        \n",
    "        label_dict = {}\n",
    "        with open('columns', 'r') as columns_file:\n",
    "            columns = columns_file.read().splitlines()\n",
    "        with open('form_columns', 'r') as form_columns_file:\n",
    "            form_columns = form_columns_file.read().splitlines()\n",
    "\n",
    "        for csv_file in self.get_csv_files():\n",
    "            \n",
    "             \n",
    "            \n",
    "            df = pandas.read_csv(csv_file, usecols=columns)\n",
    "            df = df.fillna(value=0.0)\n",
    "            replace_outcome = {1.0:1.0, 0.0:-1.0}\n",
    "            df[\"outcome\"].replace(replace_outcome, inplace=True)\n",
    "\n",
    "            for game_id in df.game_id.unique():\n",
    "                df_game = df.loc[df['game_id'] == game_id]\n",
    "\n",
    "                df_position_team = df_game.loc[df['event_type'] == 'Team set up']\n",
    "                for index, row in df_position_team.iterrows():\n",
    "                    positions_id = row['player_position'].replace(' ','').split(',')\n",
    "                    involved = row['involved'].replace(' ','').split(',')\n",
    "                    for index, position in enumerate(positions_id):\n",
    "                        if position != 5:\n",
    "                            positions[float(involved[index])] = position\n",
    "                df_substitute = df_game.loc[df['event_type'] == 'Player on']\n",
    "                for index, row in df_substitute.iterrows():\n",
    "                    if row['player_position']=='Goalkeeper':\n",
    "                        positions[float(row['player_id'])]=1\n",
    "                    elif row['player_position'] == 'Defender':\n",
    "                        positions[float(row['player_id'])] = 2\n",
    "                    elif row['player_position'] == 'Midfielder':\n",
    "                        positions[float(row['player_id'])] = 3\n",
    "                    elif row['player_position'] == 'Forward':\n",
    "                        positions[float(row['player_id'])] = 4\n",
    "\n",
    "\n",
    "                for player_id in df_game.player_id.unique():\n",
    "                    if player_id == 0.0:\n",
    "                        continue\n",
    "                    df_player = df_game.loc[df_game['player_id'] == player_id]\n",
    "                    features = []\n",
    "                    for feature in form_columns:\n",
    "                        total = (df_player[feature]).sum()\n",
    "                        if total:\n",
    "                            success = (df_player[feature]*df_player['outcome']).sum()\n",
    "                            features.append(success/total)\n",
    "                        else:\n",
    "                            features.append(0.0)\n",
    "                    if True:\n",
    "                        if True:\n",
    "                            arr = [str(game_id), str(player_id),df_player['game_date'].iloc[0]] + features\n",
    "                            if positions[player_id] == 1:\n",
    "                                    goalkeeper.append(arr)\n",
    "                            elif positions[player_id] == 2:\n",
    "                                    defender.append(arr)\n",
    "                            elif positions[player_id] == 3:\n",
    "                                    midfielder.append(arr)\n",
    "                            elif positions[player_id] == 4:\n",
    "                                forward.append(arr)\n",
    "\n",
    "                            X.append(features)\n",
    "                            P.append(positions[player_id])\n",
    "                            #Y.append(player_rating[str(game_id)][str(player_id)])\n",
    "                        else:\n",
    "                            print (\"Player missing : \", game_id, player_id)\n",
    "                    else:\n",
    "                        print (\"Game missing : \", game_id)\n",
    "            yield X, P, Y, goalkeeper, defender, midfielder, forward, csv_file\n",
    "\n",
    "\n",
    "\n",
    "od = OptaData('./data1/Full Datasets - Opta/MLS')\n"
   ]
  },
  {
   "cell_type": "code",
   "execution_count": 8,
   "metadata": {
    "scrolled": true
   },
   "outputs": [
    {
     "name": "stdout",
     "output_type": "stream",
     "text": [
      "./data1/Full Datasets - Opta/MLS/MLS 2018-2019.csv\n"
     ]
    }
   ],
   "source": [
    "import csv as csv\n",
    "for X,P,Y,goalkeeper,defender,midfielder,forward,csv_file in od.data:\n",
    "    print csv_file\n",
    "    csv_file=csv_file.replace('/','')\n",
    "    with open(\"gk\"+csv_file, 'w') as csvfile1:\n",
    "        csvwriter = csv.writer(csvfile1)\n",
    "        csvwriter.writerows(goalkeeper)\n",
    "    with open(\"def\"+csv_file, 'w') as csvfile2:\n",
    "        csvwriter = csv.writer(csvfile2)\n",
    "        csvwriter.writerows(defender)\n",
    "    with open(\"fwd\"+csv_file, 'w') as csvfile3:\n",
    "        csvwriter = csv.writer(csvfile3)\n",
    "        csvwriter.writerows(forward)\n",
    "    with open(\"midf\"+csv_file, 'w') as csvfile4:\n",
    "        csvwriter = csv.writer(csvfile4)\n",
    "        csvwriter.writerows(midfielder)\n"
   ]
  },
  {
   "cell_type": "code",
   "execution_count": 6,
   "metadata": {},
   "outputs": [
    {
     "name": "stdout",
     "output_type": "stream",
     "text": [
      "[['Nikhil', 'COE', '2', '9.0'], ['Sanchit', 'COE', '2', '9.1']]\n"
     ]
    }
   ],
   "source": [
    "print rows"
   ]
  },
  {
   "cell_type": "code",
   "execution_count": null,
   "metadata": {},
   "outputs": [],
   "source": []
  }
 ],
 "metadata": {
  "kernelspec": {
   "display_name": "Python 2",
   "language": "python",
   "name": "python2"
  },
  "language_info": {
   "codemirror_mode": {
    "name": "ipython",
    "version": 2
   },
   "file_extension": ".py",
   "mimetype": "text/x-python",
   "name": "python",
   "nbconvert_exporter": "python",
   "pygments_lexer": "ipython2",
   "version": "2.7.15"
  }
 },
 "nbformat": 4,
 "nbformat_minor": 2
}
