{
 "cells": [
  {
   "cell_type": "code",
   "execution_count": 48,
   "metadata": {},
   "outputs": [
    {
     "name": "stderr",
     "output_type": "stream",
     "text": [
      "C:\\Users\\Pramod\\Anaconda2\\lib\\site-packages\\IPython\\core\\interactiveshell.py:2714: DtypeWarning: Columns (186,190,192,288) have mixed types. Specify dtype option on import or set low_memory=False.\n",
      "  interactivity=interactivity, compiler=compiler, result=result)\n"
     ]
    }
   ],
   "source": [
    "import pandas as pd\n",
    "df = pd.read_csv(r'C:\\Users\\Pramod\\Downloads\\data\\Full Datasets - Opta\\MLS\\MLS 2015-2016.csv')\n",
    "\n"
   ]
  },
  {
   "cell_type": "code",
   "execution_count": 49,
   "metadata": {
    "scrolled": true
   },
   "outputs": [
    {
     "name": "stdout",
     "output_type": "stream",
     "text": [
      "long_ball\n",
      "cross\n",
      "head_pass\n",
      "through_ball\n",
      "free_kick_taken\n",
      "corner_taken\n",
      "attacking_pass\n",
      "assist\n",
      "second_assist\n",
      "free_kick\n",
      "assisted\n",
      "intentional_assist\n",
      "penalty\n",
      "own_goal\n",
      "keeper_touched\n",
      "keeper_saved\n",
      "big_chance\n",
      "blocked\n",
      "six_yard_blocked\n",
      "saved_off_line\n",
      "foul\n",
      "yellow_card\n",
      "second_yellow\n",
      "red_card\n",
      "deflected_save\n",
      "dive_and_deflect\n",
      "catch\n",
      "dive_and_catch\n",
      "goal_kick\n",
      "punch\n",
      "fingertip\n",
      "caught\n",
      "standing\n",
      "diving\n",
      "stooping\n",
      "reaching\n",
      "hands\n",
      "scored\n",
      "saved\n",
      "missed\n",
      "def_block\n",
      "leading_to_attempt\n",
      "leading_to_goal\n",
      "blocked_cross\n",
      "head\n",
      "volley\n",
      "diving_header\n",
      "home_team_possession\n",
      "away_team_possession\n",
      "blocked_pass\n",
      "offside\n",
      "denied_goal_scoring_opportunity\n",
      "follows_shot_blocked\n",
      "solo_run\n",
      "shot_from_cross\n",
      "first_touch\n"
     ]
    }
   ],
   "source": [
    "import csv\n",
    "import numpy as np\n",
    "\n",
    "lst=df.columns.values\n",
    "    \n",
    "with open(r'C:\\Users\\Pramod\\Downloads\\form_columns', 'r') as form_columns_file:\n",
    "    form_columns = form_columns_file.read().splitlines()\n",
    "    \n",
    "df= df.fillna(0)\n",
    "\n",
    "for val in lst:\n",
    "    if val not in form_columns:\n",
    "        df=df.drop(val,axis=1, errors = 'ignore')\n",
    "        \n",
    "temp=[]\n",
    "dx=df.columns.values[1:]\n",
    "temp.append('2015')\n",
    "for column in dx:\n",
    "    print column\n",
    "    temp.append(df[column].sum())\n",
    "    "
   ]
  },
  {
   "cell_type": "code",
   "execution_count": 46,
   "metadata": {},
   "outputs": [
    {
     "name": "stdout",
     "output_type": "stream",
     "text": [
      "['2016', 60522.0, 12637.0, 23956.0, 579.0, 9699.0, 3524.0, 0.0, 6563.0, 255.0, 450.0, 6843.0, 7720.0, 580.0, 23.0, 108.0, 23.0, 1065.0, 2173.0, 220.0, 79.0, 17258.0, 1194.0, 18.0, 93.0, 0.0, 0.0, 0.0, 0.0, 6228.0, 0.0, 19.0, 301.0, 475.0, 1403.0, 325.0, 163.0, 1948.0, 100.0, 23.0, 6.0, 2065.0, 73.0, 89.0, 1161.0, 10453.0, 1042.0, 0.0, 0.0, 0.0, 4422.0, 24.0, 0.0, 13.0, 24.0, 0.0, 0.0]\n"
     ]
    }
   ],
   "source": [
    "print temp\n"
   ]
  },
  {
   "cell_type": "code",
   "execution_count": 50,
   "metadata": {},
   "outputs": [],
   "source": [
    "with open(\"years.csv\",'a') as resultFile:\n",
    "    wr = csv.writer(resultFile, dialect='excel')\n",
    "    wr.writerow(temp)"
   ]
  },
  {
   "cell_type": "code",
   "execution_count": 51,
   "metadata": {
    "scrolled": true
   },
   "outputs": [
    {
     "name": "stderr",
     "output_type": "stream",
     "text": [
      "C:\\Users\\Pramod\\Anaconda2\\lib\\site-packages\\IPython\\core\\interactiveshell.py:2714: DtypeWarning: Columns (288) have mixed types. Specify dtype option on import or set low_memory=False.\n",
      "  interactivity=interactivity, compiler=compiler, result=result)\n"
     ]
    },
    {
     "name": "stdout",
     "output_type": "stream",
     "text": [
      "long_ball\n",
      "cross\n",
      "head_pass\n",
      "through_ball\n",
      "free_kick_taken\n",
      "corner_taken\n",
      "attacking_pass\n",
      "assist\n",
      "second_assist\n",
      "free_kick\n",
      "assisted\n",
      "intentional_assist\n",
      "penalty\n",
      "own_goal\n",
      "keeper_touched\n",
      "keeper_saved\n",
      "big_chance\n",
      "blocked\n",
      "six_yard_blocked\n",
      "saved_off_line\n",
      "foul\n",
      "yellow_card\n",
      "second_yellow\n",
      "red_card\n",
      "deflected_save\n",
      "dive_and_deflect\n",
      "catch\n",
      "dive_and_catch\n",
      "goal_kick\n",
      "punch\n",
      "fingertip\n",
      "caught\n",
      "standing\n",
      "diving\n",
      "stooping\n",
      "reaching\n",
      "hands\n",
      "scored\n",
      "saved\n",
      "missed\n",
      "def_block\n",
      "leading_to_attempt\n",
      "leading_to_goal\n",
      "blocked_cross\n",
      "head\n",
      "volley\n",
      "diving_header\n",
      "home_team_possession\n",
      "away_team_possession\n",
      "blocked_pass\n",
      "offside\n",
      "denied_goal_scoring_opportunity\n",
      "follows_shot_blocked\n",
      "solo_run\n",
      "shot_from_cross\n",
      "first_touch\n"
     ]
    }
   ],
   "source": [
    "df = pd.read_csv(r'C:\\Users\\Pramod\\Downloads\\data\\Full Datasets - Opta\\MLS\\MLS 2014-2015.csv')\n",
    "lst=df.columns.values\n",
    "    \n",
    "with open(r'C:\\Users\\Pramod\\Downloads\\form_columns', 'r') as form_columns_file:\n",
    "    form_columns = form_columns_file.read().splitlines()\n",
    "    \n",
    "df= df.fillna(0)\n",
    "\n",
    "for val in lst:\n",
    "    if val not in form_columns:\n",
    "        df=df.drop(val,axis=1, errors = 'ignore')\n",
    "        \n",
    "temp=[]\n",
    "dx=df.columns.values[1:]\n",
    "temp.append('2014')\n",
    "for column in dx:\n",
    "    print column\n",
    "    temp.append(df[column].sum())\n",
    "    \n",
    "with open(\"years.csv\",'a') as resultFile:\n",
    "    wr = csv.writer(resultFile, dialect='excel')\n",
    "    wr.writerow(temp)"
   ]
  },
  {
   "cell_type": "code",
   "execution_count": 52,
   "metadata": {},
   "outputs": [
    {
     "name": "stderr",
     "output_type": "stream",
     "text": [
      "C:\\Users\\Pramod\\Anaconda2\\lib\\site-packages\\IPython\\core\\interactiveshell.py:2714: DtypeWarning: Columns (186,190,192,226,287) have mixed types. Specify dtype option on import or set low_memory=False.\n",
      "  interactivity=interactivity, compiler=compiler, result=result)\n"
     ]
    },
    {
     "name": "stdout",
     "output_type": "stream",
     "text": [
      "long_ball\n",
      "cross\n",
      "head_pass\n",
      "through_ball\n",
      "free_kick_taken\n",
      "corner_taken\n",
      "attacking_pass\n",
      "assist\n",
      "second_assist\n",
      "free_kick\n",
      "assisted\n",
      "intentional_assist\n",
      "penalty\n",
      "own_goal\n",
      "keeper_touched\n",
      "keeper_saved\n",
      "big_chance\n",
      "blocked\n",
      "six_yard_blocked\n",
      "saved_off_line\n",
      "foul\n",
      "yellow_card\n",
      "second_yellow\n",
      "red_card\n",
      "deflected_save\n",
      "dive_and_deflect\n",
      "catch\n",
      "dive_and_catch\n",
      "goal_kick\n",
      "punch\n",
      "fingertip\n",
      "caught\n",
      "standing\n",
      "diving\n",
      "stooping\n",
      "reaching\n",
      "hands\n",
      "scored\n",
      "saved\n",
      "missed\n",
      "def_block\n",
      "leading_to_attempt\n",
      "leading_to_goal\n",
      "blocked_cross\n",
      "head\n",
      "volley\n",
      "diving_header\n",
      "home_team_possession\n",
      "away_team_possession\n",
      "blocked_pass\n",
      "offside\n",
      "denied_goal_scoring_opportunity\n",
      "follows_shot_blocked\n",
      "solo_run\n",
      "shot_from_cross\n",
      "first_touch\n"
     ]
    }
   ],
   "source": [
    "df = pd.read_csv(r'C:\\Users\\Pramod\\Downloads\\data\\Full Datasets - Opta\\MLS\\MLS 2013-2014.csv')\n",
    "lst=df.columns.values\n",
    "    \n",
    "with open(r'C:\\Users\\Pramod\\Downloads\\form_columns', 'r') as form_columns_file:\n",
    "    form_columns = form_columns_file.read().splitlines()\n",
    "    \n",
    "df= df.fillna(0)\n",
    "\n",
    "for val in lst:\n",
    "    if val not in form_columns:\n",
    "        df=df.drop(val,axis=1, errors = 'ignore')\n",
    "        \n",
    "temp=[]\n",
    "dx=df.columns.values[1:]\n",
    "temp.append('2013')\n",
    "for column in dx:\n",
    "    print column\n",
    "    temp.append(df[column].sum())\n",
    "    \n",
    "with open(\"years.csv\",'a') as resultFile:\n",
    "    wr = csv.writer(resultFile, dialect='excel')\n",
    "    wr.writerow(temp)"
   ]
  },
  {
   "cell_type": "code",
   "execution_count": 53,
   "metadata": {
    "scrolled": true
   },
   "outputs": [
    {
     "name": "stderr",
     "output_type": "stream",
     "text": [
      "C:\\Users\\Pramod\\Anaconda2\\lib\\site-packages\\IPython\\core\\interactiveshell.py:2714: DtypeWarning: Columns (226) have mixed types. Specify dtype option on import or set low_memory=False.\n",
      "  interactivity=interactivity, compiler=compiler, result=result)\n"
     ]
    },
    {
     "name": "stdout",
     "output_type": "stream",
     "text": [
      "long_ball\n",
      "cross\n",
      "head_pass\n",
      "through_ball\n",
      "free_kick_taken\n",
      "corner_taken\n",
      "attacking_pass\n",
      "assist\n",
      "second_assist\n",
      "free_kick\n",
      "assisted\n",
      "intentional_assist\n",
      "penalty\n",
      "own_goal\n",
      "keeper_touched\n",
      "keeper_saved\n",
      "big_chance\n",
      "blocked\n",
      "six_yard_blocked\n",
      "saved_off_line\n",
      "foul\n",
      "yellow_card\n",
      "second_yellow\n",
      "red_card\n",
      "deflected_save\n",
      "dive_and_deflect\n",
      "catch\n",
      "dive_and_catch\n",
      "goal_kick\n",
      "punch\n",
      "fingertip\n",
      "caught\n",
      "standing\n",
      "diving\n",
      "stooping\n",
      "reaching\n",
      "hands\n",
      "scored\n",
      "saved\n",
      "missed\n",
      "def_block\n",
      "leading_to_attempt\n",
      "leading_to_goal\n",
      "blocked_cross\n",
      "head\n",
      "volley\n",
      "diving_header\n",
      "home_team_possession\n",
      "away_team_possession\n",
      "blocked_pass\n",
      "offside\n",
      "denied_goal_scoring_opportunity\n",
      "follows_shot_blocked\n",
      "solo_run\n",
      "shot_from_cross\n",
      "first_touch\n"
     ]
    }
   ],
   "source": [
    "df = pd.read_csv(r'C:\\Users\\Pramod\\Downloads\\data\\Full Datasets - Opta\\MLS\\MLS 2012-2013.csv')\n",
    "lst=df.columns.values\n",
    "    \n",
    "with open(r'C:\\Users\\Pramod\\Downloads\\form_columns', 'r') as form_columns_file:\n",
    "    form_columns = form_columns_file.read().splitlines()\n",
    "    \n",
    "df= df.fillna(0)\n",
    "\n",
    "for val in lst:\n",
    "    if val not in form_columns:\n",
    "        df=df.drop(val,axis=1, errors = 'ignore')\n",
    "        \n",
    "temp=[]\n",
    "dx=df.columns.values[1:]\n",
    "temp.append('2012')\n",
    "for column in dx:\n",
    "    print column\n",
    "    temp.append(df[column].sum())\n",
    "    \n",
    "with open(\"years.csv\",'a') as resultFile:\n",
    "    wr = csv.writer(resultFile, dialect='excel')\n",
    "    wr.writerow(temp)"
   ]
  },
  {
   "cell_type": "code",
   "execution_count": 56,
   "metadata": {
    "scrolled": true
   },
   "outputs": [
    {
     "ename": "KeyboardInterrupt",
     "evalue": "",
     "output_type": "error",
     "traceback": [
      "\u001b[1;31m---------------------------------------------------------------------------\u001b[0m",
      "\u001b[1;31mKeyboardInterrupt\u001b[0m                         Traceback (most recent call last)",
      "\u001b[1;32m<ipython-input-56-729d1eead75f>\u001b[0m in \u001b[0;36m<module>\u001b[1;34m()\u001b[0m\n\u001b[1;32m----> 1\u001b[1;33m \u001b[0mdf\u001b[0m \u001b[1;33m=\u001b[0m \u001b[0mpd\u001b[0m\u001b[1;33m.\u001b[0m\u001b[0mread_csv\u001b[0m\u001b[1;33m(\u001b[0m\u001b[1;34mr'C:\\Users\\Pramod\\Downloads\\data\\Full Datasets - Opta\\MLS\\MLS 2011-2012.csv'\u001b[0m\u001b[1;33m)\u001b[0m\u001b[1;33m\u001b[0m\u001b[0m\n\u001b[0m\u001b[0;32m      2\u001b[0m \u001b[0mlst\u001b[0m\u001b[1;33m=\u001b[0m\u001b[0mdf\u001b[0m\u001b[1;33m.\u001b[0m\u001b[0mcolumns\u001b[0m\u001b[1;33m.\u001b[0m\u001b[0mvalues\u001b[0m\u001b[1;33m\u001b[0m\u001b[0m\n\u001b[0;32m      3\u001b[0m \u001b[1;33m\u001b[0m\u001b[0m\n\u001b[0;32m      4\u001b[0m \u001b[1;32mwith\u001b[0m \u001b[0mopen\u001b[0m\u001b[1;33m(\u001b[0m\u001b[1;34mr'C:\\Users\\Pramod\\Downloads\\form_columns'\u001b[0m\u001b[1;33m,\u001b[0m \u001b[1;34m'r'\u001b[0m\u001b[1;33m)\u001b[0m \u001b[1;32mas\u001b[0m \u001b[0mform_columns_file\u001b[0m\u001b[1;33m:\u001b[0m\u001b[1;33m\u001b[0m\u001b[0m\n\u001b[0;32m      5\u001b[0m     \u001b[0mform_columns\u001b[0m \u001b[1;33m=\u001b[0m \u001b[0mform_columns_file\u001b[0m\u001b[1;33m.\u001b[0m\u001b[0mread\u001b[0m\u001b[1;33m(\u001b[0m\u001b[1;33m)\u001b[0m\u001b[1;33m.\u001b[0m\u001b[0msplitlines\u001b[0m\u001b[1;33m(\u001b[0m\u001b[1;33m)\u001b[0m\u001b[1;33m\u001b[0m\u001b[0m\n",
      "\u001b[1;32mC:\\Users\\Pramod\\Anaconda2\\lib\\site-packages\\pandas\\io\\parsers.pyc\u001b[0m in \u001b[0;36mparser_f\u001b[1;34m(filepath_or_buffer, sep, delimiter, header, names, index_col, usecols, squeeze, prefix, mangle_dupe_cols, dtype, engine, converters, true_values, false_values, skipinitialspace, skiprows, nrows, na_values, keep_default_na, na_filter, verbose, skip_blank_lines, parse_dates, infer_datetime_format, keep_date_col, date_parser, dayfirst, iterator, chunksize, compression, thousands, decimal, lineterminator, quotechar, quoting, escapechar, comment, encoding, dialect, tupleize_cols, error_bad_lines, warn_bad_lines, skipfooter, doublequote, delim_whitespace, low_memory, memory_map, float_precision)\u001b[0m\n\u001b[0;32m    676\u001b[0m                     skip_blank_lines=skip_blank_lines)\n\u001b[0;32m    677\u001b[0m \u001b[1;33m\u001b[0m\u001b[0m\n\u001b[1;32m--> 678\u001b[1;33m         \u001b[1;32mreturn\u001b[0m \u001b[0m_read\u001b[0m\u001b[1;33m(\u001b[0m\u001b[0mfilepath_or_buffer\u001b[0m\u001b[1;33m,\u001b[0m \u001b[0mkwds\u001b[0m\u001b[1;33m)\u001b[0m\u001b[1;33m\u001b[0m\u001b[0m\n\u001b[0m\u001b[0;32m    679\u001b[0m \u001b[1;33m\u001b[0m\u001b[0m\n\u001b[0;32m    680\u001b[0m     \u001b[0mparser_f\u001b[0m\u001b[1;33m.\u001b[0m\u001b[0m__name__\u001b[0m \u001b[1;33m=\u001b[0m \u001b[0mname\u001b[0m\u001b[1;33m\u001b[0m\u001b[0m\n",
      "\u001b[1;32mC:\\Users\\Pramod\\Anaconda2\\lib\\site-packages\\pandas\\io\\parsers.pyc\u001b[0m in \u001b[0;36m_read\u001b[1;34m(filepath_or_buffer, kwds)\u001b[0m\n\u001b[0;32m    444\u001b[0m \u001b[1;33m\u001b[0m\u001b[0m\n\u001b[0;32m    445\u001b[0m     \u001b[1;32mtry\u001b[0m\u001b[1;33m:\u001b[0m\u001b[1;33m\u001b[0m\u001b[0m\n\u001b[1;32m--> 446\u001b[1;33m         \u001b[0mdata\u001b[0m \u001b[1;33m=\u001b[0m \u001b[0mparser\u001b[0m\u001b[1;33m.\u001b[0m\u001b[0mread\u001b[0m\u001b[1;33m(\u001b[0m\u001b[0mnrows\u001b[0m\u001b[1;33m)\u001b[0m\u001b[1;33m\u001b[0m\u001b[0m\n\u001b[0m\u001b[0;32m    447\u001b[0m     \u001b[1;32mfinally\u001b[0m\u001b[1;33m:\u001b[0m\u001b[1;33m\u001b[0m\u001b[0m\n\u001b[0;32m    448\u001b[0m         \u001b[0mparser\u001b[0m\u001b[1;33m.\u001b[0m\u001b[0mclose\u001b[0m\u001b[1;33m(\u001b[0m\u001b[1;33m)\u001b[0m\u001b[1;33m\u001b[0m\u001b[0m\n",
      "\u001b[1;32mC:\\Users\\Pramod\\Anaconda2\\lib\\site-packages\\pandas\\io\\parsers.pyc\u001b[0m in \u001b[0;36mread\u001b[1;34m(self, nrows)\u001b[0m\n\u001b[0;32m   1034\u001b[0m                 \u001b[1;32mraise\u001b[0m \u001b[0mValueError\u001b[0m\u001b[1;33m(\u001b[0m\u001b[1;34m'skipfooter not supported for iteration'\u001b[0m\u001b[1;33m)\u001b[0m\u001b[1;33m\u001b[0m\u001b[0m\n\u001b[0;32m   1035\u001b[0m \u001b[1;33m\u001b[0m\u001b[0m\n\u001b[1;32m-> 1036\u001b[1;33m         \u001b[0mret\u001b[0m \u001b[1;33m=\u001b[0m \u001b[0mself\u001b[0m\u001b[1;33m.\u001b[0m\u001b[0m_engine\u001b[0m\u001b[1;33m.\u001b[0m\u001b[0mread\u001b[0m\u001b[1;33m(\u001b[0m\u001b[0mnrows\u001b[0m\u001b[1;33m)\u001b[0m\u001b[1;33m\u001b[0m\u001b[0m\n\u001b[0m\u001b[0;32m   1037\u001b[0m \u001b[1;33m\u001b[0m\u001b[0m\n\u001b[0;32m   1038\u001b[0m         \u001b[1;31m# May alter columns / col_dict\u001b[0m\u001b[1;33m\u001b[0m\u001b[1;33m\u001b[0m\u001b[0m\n",
      "\u001b[1;32mC:\\Users\\Pramod\\Anaconda2\\lib\\site-packages\\pandas\\io\\parsers.pyc\u001b[0m in \u001b[0;36mread\u001b[1;34m(self, nrows)\u001b[0m\n\u001b[0;32m   1846\u001b[0m     \u001b[1;32mdef\u001b[0m \u001b[0mread\u001b[0m\u001b[1;33m(\u001b[0m\u001b[0mself\u001b[0m\u001b[1;33m,\u001b[0m \u001b[0mnrows\u001b[0m\u001b[1;33m=\u001b[0m\u001b[0mNone\u001b[0m\u001b[1;33m)\u001b[0m\u001b[1;33m:\u001b[0m\u001b[1;33m\u001b[0m\u001b[0m\n\u001b[0;32m   1847\u001b[0m         \u001b[1;32mtry\u001b[0m\u001b[1;33m:\u001b[0m\u001b[1;33m\u001b[0m\u001b[0m\n\u001b[1;32m-> 1848\u001b[1;33m             \u001b[0mdata\u001b[0m \u001b[1;33m=\u001b[0m \u001b[0mself\u001b[0m\u001b[1;33m.\u001b[0m\u001b[0m_reader\u001b[0m\u001b[1;33m.\u001b[0m\u001b[0mread\u001b[0m\u001b[1;33m(\u001b[0m\u001b[0mnrows\u001b[0m\u001b[1;33m)\u001b[0m\u001b[1;33m\u001b[0m\u001b[0m\n\u001b[0m\u001b[0;32m   1849\u001b[0m         \u001b[1;32mexcept\u001b[0m \u001b[0mStopIteration\u001b[0m\u001b[1;33m:\u001b[0m\u001b[1;33m\u001b[0m\u001b[0m\n\u001b[0;32m   1850\u001b[0m             \u001b[1;32mif\u001b[0m \u001b[0mself\u001b[0m\u001b[1;33m.\u001b[0m\u001b[0m_first_chunk\u001b[0m\u001b[1;33m:\u001b[0m\u001b[1;33m\u001b[0m\u001b[0m\n",
      "\u001b[1;32mpandas\\_libs\\parsers.pyx\u001b[0m in \u001b[0;36mpandas._libs.parsers.TextReader.read\u001b[1;34m()\u001b[0m\n",
      "\u001b[1;32mpandas\\_libs\\parsers.pyx\u001b[0m in \u001b[0;36mpandas._libs.parsers.TextReader._read_low_memory\u001b[1;34m()\u001b[0m\n",
      "\u001b[1;32mpandas\\_libs\\parsers.pyx\u001b[0m in \u001b[0;36mpandas._libs.parsers.TextReader._read_rows\u001b[1;34m()\u001b[0m\n",
      "\u001b[1;32mpandas\\_libs\\parsers.pyx\u001b[0m in \u001b[0;36mpandas._libs.parsers.TextReader._convert_column_data\u001b[1;34m()\u001b[0m\n",
      "\u001b[1;32mpandas\\_libs\\parsers.pyx\u001b[0m in \u001b[0;36mpandas._libs.parsers.TextReader._convert_tokens\u001b[1;34m()\u001b[0m\n",
      "\u001b[1;32mpandas\\_libs\\parsers.pyx\u001b[0m in \u001b[0;36mpandas._libs.parsers.TextReader._convert_with_dtype\u001b[1;34m()\u001b[0m\n",
      "\u001b[1;32mC:\\Users\\Pramod\\Anaconda2\\lib\\site-packages\\pandas\\core\\dtypes\\common.pyc\u001b[0m in \u001b[0;36mis_integer_dtype\u001b[1;34m(arr_or_dtype)\u001b[0m\n\u001b[0;32m    809\u001b[0m \u001b[1;33m\u001b[0m\u001b[0m\n\u001b[0;32m    810\u001b[0m \u001b[1;33m\u001b[0m\u001b[0m\n\u001b[1;32m--> 811\u001b[1;33m \u001b[1;32mdef\u001b[0m \u001b[0mis_integer_dtype\u001b[0m\u001b[1;33m(\u001b[0m\u001b[0marr_or_dtype\u001b[0m\u001b[1;33m)\u001b[0m\u001b[1;33m:\u001b[0m\u001b[1;33m\u001b[0m\u001b[0m\n\u001b[0m\u001b[0;32m    812\u001b[0m     \"\"\"\n\u001b[0;32m    813\u001b[0m     \u001b[0mCheck\u001b[0m \u001b[0mwhether\u001b[0m \u001b[0mthe\u001b[0m \u001b[0mprovided\u001b[0m \u001b[0marray\u001b[0m \u001b[1;32mor\u001b[0m \u001b[0mdtype\u001b[0m \u001b[1;32mis\u001b[0m \u001b[0mof\u001b[0m \u001b[0man\u001b[0m \u001b[0minteger\u001b[0m \u001b[0mdtype\u001b[0m\u001b[1;33m.\u001b[0m\u001b[1;33m\u001b[0m\u001b[0m\n",
      "\u001b[1;31mKeyboardInterrupt\u001b[0m: "
     ]
    }
   ],
   "source": [
    "df = pd.read_csv(r'C:\\Users\\Pramod\\Downloads\\data\\Full Datasets - Opta\\MLS\\MLS 2011-2012.csv')\n",
    "lst=df.columns.values\n",
    "    \n",
    "with open(r'C:\\Users\\Pramod\\Downloads\\form_columns', 'r') as form_columns_file:\n",
    "    form_columns = form_columns_file.read().splitlines()\n",
    "    \n",
    "df= df.fillna(0)\n",
    "\n",
    "for val in lst:\n",
    "    if val not in form_columns:\n",
    "        df=df.drop(val,axis=1, errors = 'ignore')\n",
    "        \n",
    "\n",
    "        \n",
    "# temp=[]\n",
    "# dx=df.columns.values[1:]\n",
    "# temp.append('2011')\n",
    "# for column in dx:\n",
    "#     print column\n",
    "#     temp.append(df[column].sum())\n",
    "    \n",
    "# with open(\"years.csv\",'a') as resultFile:\n",
    "#     wr = csv.writer(resultFile, dialect='excel')\n",
    "#     wr.writerow(temp)"
   ]
  },
  {
   "cell_type": "code",
   "execution_count": 58,
   "metadata": {},
   "outputs": [
    {
     "name": "stdout",
     "output_type": "stream",
     "text": [
      "12900.0\n"
     ]
    }
   ],
   "source": [
    "print df['cross'].sum()"
   ]
  },
  {
   "cell_type": "code",
   "execution_count": 60,
   "metadata": {},
   "outputs": [
    {
     "name": "stdout",
     "output_type": "stream",
     "text": [
      "5836.0\n"
     ]
    }
   ],
   "source": [
    "print df['assist'].sum()"
   ]
  },
  {
   "cell_type": "code",
   "execution_count": 13,
   "metadata": {},
   "outputs": [
    {
     "data": {
      "image/png": "[encoded data removed]",
      "text/plain": [
       "<Figure size 432x288 with 1 Axes>"
      ]
     },
     "metadata": {},
     "output_type": "display_data"
    }
   ],
   "source": [
    "import pandas as pd\n",
    "from matplotlib import pyplot as plt\n",
    "%matplotlib inline\n",
    "viz = pd.read_csv(r'C:\\Users\\Pramod\\Downloads\\abc.csv')\n",
    "\n",
    "plt.plot(viz['date'], viz['long_ball'], '-')\n",
    "\n",
    "plt.legend(['long_ball'], loc='upper left')\n",
    "\n",
    "\n",
    "_ = plt.xticks(rotation=45)\n"
   ]
  },
  {
   "cell_type": "code",
   "execution_count": 14,
   "metadata": {},
   "outputs": [
    {
     "data": {
      "image/png": "[encoded data removed]",
      "text/plain": [
       "<Figure size 432x288 with 1 Axes>"
      ]
     },
     "metadata": {},
     "output_type": "display_data"
    }
   ],
   "source": [
    "plt.plot(viz['date'], viz['cross'], '-')\n",
    "plt.legend(['cross'], loc='upper left')\n",
    "\n",
    "\n",
    "_ = plt.xticks(rotation=45)\n"
   ]
  },
  {
   "cell_type": "code",
   "execution_count": 31,
   "metadata": {},
   "outputs": [
    {
     "data": {
      "image/png": "[encoded data removed]",
      "text/plain": [
       "<Figure size 432x288 with 1 Axes>"
      ]
     },
     "metadata": {},
     "output_type": "display_data"
    }
   ],
   "source": [
    "plt.plot(viz['date'], viz['free_kick'], '-')\n",
    "plt.plot(viz['date'], viz['penalty'], '-')\n",
    "\n",
    "plt.legend(['free_kick','penalty'], loc='upper left')\n",
    "\n",
    "\n",
    "_ = plt.xticks(rotation=45)"
   ]
  },
  {
   "cell_type": "code",
   "execution_count": 24,
   "metadata": {},
   "outputs": [
    {
     "data": {
      "image/png": "[encoded data removed]",
      "text/plain": [
       "<Figure size 432x288 with 1 Axes>"
      ]
     },
     "metadata": {},
     "output_type": "display_data"
    }
   ],
   "source": [
    "plt.plot(viz['date'], viz['second_yellow'], '-')\n",
    "plt.plot(viz['date'], viz['red_card'], '-')\n",
    "\n",
    "plt.legend(['second_yellow','red'], loc='upper left')\n",
    "\n",
    "\n",
    "_ = plt.xticks(rotation=45)"
   ]
  },
  {
   "cell_type": "code",
   "execution_count": 25,
   "metadata": {},
   "outputs": [
    {
     "data": {
      "image/png": "[encoded data removed]",
      "text/plain": [
       "<Figure size 432x288 with 1 Axes>"
      ]
     },
     "metadata": {},
     "output_type": "display_data"
    }
   ],
   "source": [
    "plt.plot(viz['date'], viz['foul'], '-')\n",
    "\n",
    "plt.legend(['foul'], loc='upper left')\n",
    "\n",
    "\n",
    "_ = plt.xticks(rotation=45)\n"
   ]
  },
  {
   "cell_type": "code",
   "execution_count": 30,
   "metadata": {},
   "outputs": [
    {
     "data": {
      "image/png": "[encoded data removed]",
      "text/plain": [
       "<Figure size 432x288 with 1 Axes>"
      ]
     },
     "metadata": {},
     "output_type": "display_data"
    }
   ],
   "source": [
    "plt.plot(viz['date'], viz['saved'], '-')\n",
    "plt.plot(viz['date'], viz['missed'], '-')\n",
    "plt.legend(['saved','missed','scored'], loc='upper left')\n",
    "\n",
    "\n",
    "_ = plt.xticks(rotation=45)\n",
    "\n"
   ]
  },
  {
   "cell_type": "code",
   "execution_count": null,
   "metadata": {},
   "outputs": [],
   "source": []
  }
 ],
 "metadata": {
  "kernelspec": {
   "display_name": "Python 2",
   "language": "python",
   "name": "python2"
  },
  "language_info": {
   "codemirror_mode": {
    "name": "ipython",
    "version": 2
   },
   "file_extension": ".py",
   "mimetype": "text/x-python",
   "name": "python",
   "nbconvert_exporter": "python",
   "pygments_lexer": "ipython2",
   "version": "2.7.15"
  }
 },
 "nbformat": 4,
 "nbformat_minor": 2
}
